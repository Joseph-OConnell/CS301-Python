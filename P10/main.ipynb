{
 "cells": [
  {
   "cell_type": "code",
   "execution_count": 1,
   "metadata": {},
   "outputs": [],
   "source": [
    "# my-login: jpoconnell2\n",
    "import pandas as pd\n",
    "import requests\n",
    "import html\n",
    "import json\n",
    "import math"
   ]
  },
  {
   "cell_type": "code",
   "execution_count": 2,
   "metadata": {},
   "outputs": [],
   "source": [
    "url = 'https://tyler.caraza-harter.com/cs301/fall18/data/countries.json'"
   ]
  },
  {
   "cell_type": "code",
   "execution_count": 3,
   "metadata": {},
   "outputs": [],
   "source": [
    "data = pd.read_json(url)"
   ]
  },
  {
   "cell_type": "code",
   "execution_count": 4,
   "metadata": {},
   "outputs": [],
   "source": [
    "total_pop = 0"
   ]
  },
  {
   "cell_type": "code",
   "execution_count": 5,
   "metadata": {},
   "outputs": [],
   "source": [
    "for country in data['population']:\n",
    "    total_pop += int(country)"
   ]
  },
  {
   "cell_type": "code",
   "execution_count": 6,
   "metadata": {},
   "outputs": [
    {
     "data": {
      "text/plain": [
       "6279556636"
      ]
     },
     "execution_count": 6,
     "metadata": {},
     "output_type": "execute_result"
    }
   ],
   "source": [
    "#q1\n",
    "total_pop"
   ]
  },
  {
   "cell_type": "code",
   "execution_count": 7,
   "metadata": {},
   "outputs": [],
   "source": [
    "url_list = 'https://tyler.caraza-harter.com/cs301/fall18/data/capitals.txt'"
   ]
  },
  {
   "cell_type": "code",
   "execution_count": 8,
   "metadata": {},
   "outputs": [],
   "source": [
    "info = requests.get(url_list)\n",
    "list_info = str(info.text).split('\\n')\n",
    "\n"
   ]
  },
  {
   "cell_type": "code",
   "execution_count": 9,
   "metadata": {},
   "outputs": [
    {
     "data": {
      "text/plain": [
       "'https://tyler.caraza-harter.com/cs301/fall18/data/capitals/ElSalvador.json'"
      ]
     },
     "execution_count": 9,
     "metadata": {},
     "output_type": "execute_result"
    }
   ],
   "source": [
    "#q2\n",
    "list_info[0]"
   ]
  },
  {
   "cell_type": "code",
   "execution_count": 10,
   "metadata": {},
   "outputs": [],
   "source": [
    "master_list = []"
   ]
  },
  {
   "cell_type": "code",
   "execution_count": 11,
   "metadata": {},
   "outputs": [],
   "source": [
    "for url in list_info:\n",
    "    capital_info_raw = requests.get(url)\n",
    "    capital_info = json.loads(capital_info_raw.text)\n",
    "    master_list.append(capital_info)\n"
   ]
  },
  {
   "cell_type": "code",
   "execution_count": 12,
   "metadata": {},
   "outputs": [],
   "source": [
    "master_frame = pd.DataFrame(master_list)"
   ]
  },
  {
   "cell_type": "code",
   "execution_count": 13,
   "metadata": {},
   "outputs": [],
   "source": [
    "q3_index = master_frame[master_frame['country'] == 'China']\n",
    "q3_series = q3_index['capital']\n",
    "q3 = pd.Series.item(q3_series)"
   ]
  },
  {
   "cell_type": "code",
   "execution_count": 14,
   "metadata": {
    "scrolled": true
   },
   "outputs": [
    {
     "data": {
      "text/plain": [
       "'Beijing'"
      ]
     },
     "execution_count": 14,
     "metadata": {},
     "output_type": "execute_result"
    }
   ],
   "source": [
    "#q3\n",
    "q3"
   ]
  },
  {
   "cell_type": "code",
   "execution_count": 15,
   "metadata": {},
   "outputs": [],
   "source": [
    "S_to_N_master_frame = master_frame.sort_values(by=['latitude'])\n"
   ]
  },
  {
   "cell_type": "code",
   "execution_count": 16,
   "metadata": {},
   "outputs": [],
   "source": [
    "south_capitals = []\n",
    "top_5_south = S_to_N_master_frame.head()\n",
    "for entry in top_5_south['country']:\n",
    "    south_capitals.append(entry)\n",
    "q4 = json.dumps(south_capitals)"
   ]
  },
  {
   "cell_type": "code",
   "execution_count": 17,
   "metadata": {},
   "outputs": [
    {
     "data": {
      "text/plain": [
       "'[\"New Zealand\", \"Australia\", \"Uruguay\", \"Argentina\", \"Chile\"]'"
      ]
     },
     "execution_count": 17,
     "metadata": {},
     "output_type": "execute_result"
    }
   ],
   "source": [
    "#q4\n",
    "q4"
   ]
  },
  {
   "cell_type": "code",
   "execution_count": 18,
   "metadata": {},
   "outputs": [],
   "source": [
    "north_capitals = []\n",
    "S_to_N_master_frame = master_frame.sort_values(by=['latitude'])\n",
    "top_3_N = S_to_N_master_frame.tail(3)\n",
    "for entry in top_3_N['country']:\n",
    "    north_capitals.append(entry)\n",
    "north_capitals.reverse()\n",
    "q5 = json.dumps(north_capitals)"
   ]
  },
  {
   "cell_type": "code",
   "execution_count": 19,
   "metadata": {},
   "outputs": [
    {
     "data": {
      "text/plain": [
       "'[\"Iceland\", \"Finland\", \"Norway\"]'"
      ]
     },
     "execution_count": 19,
     "metadata": {},
     "output_type": "execute_result"
    }
   ],
   "source": [
    "#q5\n",
    "q5"
   ]
  },
  {
   "cell_type": "code",
   "execution_count": 20,
   "metadata": {},
   "outputs": [],
   "source": [
    "describe_data = data.describe()\n"
   ]
  },
  {
   "cell_type": "code",
   "execution_count": 21,
   "metadata": {},
   "outputs": [
    {
     "data": {
      "text/html": [
       "<div>\n",
       "<style scoped>\n",
       "    .dataframe tbody tr th:only-of-type {\n",
       "        vertical-align: middle;\n",
       "    }\n",
       "\n",
       "    .dataframe tbody tr th {\n",
       "        vertical-align: top;\n",
       "    }\n",
       "\n",
       "    .dataframe thead th {\n",
       "        text-align: right;\n",
       "    }\n",
       "</style>\n",
       "<table border=\"1\" class=\"dataframe\">\n",
       "  <thead>\n",
       "    <tr style=\"text-align: right;\">\n",
       "      <th></th>\n",
       "      <th>area</th>\n",
       "      <th>birth-rate</th>\n",
       "      <th>coastline</th>\n",
       "      <th>death-rate</th>\n",
       "      <th>gdp-per-capita</th>\n",
       "      <th>infant-mortality</th>\n",
       "      <th>net-migration</th>\n",
       "      <th>population</th>\n",
       "    </tr>\n",
       "  </thead>\n",
       "  <tbody>\n",
       "    <tr>\n",
       "      <th>count</th>\n",
       "      <td>1.750000e+02</td>\n",
       "      <td>175.000000</td>\n",
       "      <td>175.000000</td>\n",
       "      <td>175.000000</td>\n",
       "      <td>175.000000</td>\n",
       "      <td>175.000000</td>\n",
       "      <td>175.000000</td>\n",
       "      <td>1.750000e+02</td>\n",
       "    </tr>\n",
       "    <tr>\n",
       "      <th>mean</th>\n",
       "      <td>7.285332e+05</td>\n",
       "      <td>22.536114</td>\n",
       "      <td>10.833657</td>\n",
       "      <td>9.654971</td>\n",
       "      <td>9781.714286</td>\n",
       "      <td>38.052743</td>\n",
       "      <td>0.123314</td>\n",
       "      <td>3.588318e+07</td>\n",
       "    </tr>\n",
       "    <tr>\n",
       "      <th>std</th>\n",
       "      <td>2.005565e+06</td>\n",
       "      <td>11.287090</td>\n",
       "      <td>38.245751</td>\n",
       "      <td>5.187216</td>\n",
       "      <td>10612.928974</td>\n",
       "      <td>35.369320</td>\n",
       "      <td>4.466356</td>\n",
       "      <td>1.333418e+08</td>\n",
       "    </tr>\n",
       "    <tr>\n",
       "      <th>min</th>\n",
       "      <td>2.000000e+00</td>\n",
       "      <td>8.250000</td>\n",
       "      <td>0.000000</td>\n",
       "      <td>2.410000</td>\n",
       "      <td>500.000000</td>\n",
       "      <td>2.290000</td>\n",
       "      <td>-13.920000</td>\n",
       "      <td>7.502000e+03</td>\n",
       "    </tr>\n",
       "    <tr>\n",
       "      <th>25%</th>\n",
       "      <td>2.779000e+04</td>\n",
       "      <td>12.635000</td>\n",
       "      <td>0.090000</td>\n",
       "      <td>6.075000</td>\n",
       "      <td>1900.000000</td>\n",
       "      <td>8.550000</td>\n",
       "      <td>-0.905000</td>\n",
       "      <td>2.033239e+06</td>\n",
       "    </tr>\n",
       "    <tr>\n",
       "      <th>50%</th>\n",
       "      <td>1.431000e+05</td>\n",
       "      <td>20.340000</td>\n",
       "      <td>0.440000</td>\n",
       "      <td>8.230000</td>\n",
       "      <td>5100.000000</td>\n",
       "      <td>24.180000</td>\n",
       "      <td>0.000000</td>\n",
       "      <td>7.523934e+06</td>\n",
       "    </tr>\n",
       "    <tr>\n",
       "      <th>75%</th>\n",
       "      <td>5.209850e+05</td>\n",
       "      <td>30.200000</td>\n",
       "      <td>3.150000</td>\n",
       "      <td>11.965000</td>\n",
       "      <td>14450.000000</td>\n",
       "      <td>62.155000</td>\n",
       "      <td>0.770000</td>\n",
       "      <td>2.272283e+07</td>\n",
       "    </tr>\n",
       "    <tr>\n",
       "      <th>max</th>\n",
       "      <td>1.707520e+07</td>\n",
       "      <td>50.730000</td>\n",
       "      <td>331.660000</td>\n",
       "      <td>29.740000</td>\n",
       "      <td>55100.000000</td>\n",
       "      <td>163.070000</td>\n",
       "      <td>23.060000</td>\n",
       "      <td>1.313974e+09</td>\n",
       "    </tr>\n",
       "  </tbody>\n",
       "</table>\n",
       "</div>"
      ],
      "text/plain": [
       "               area  birth-rate   coastline  death-rate  gdp-per-capita  \\\n",
       "count  1.750000e+02  175.000000  175.000000  175.000000      175.000000   \n",
       "mean   7.285332e+05   22.536114   10.833657    9.654971     9781.714286   \n",
       "std    2.005565e+06   11.287090   38.245751    5.187216    10612.928974   \n",
       "min    2.000000e+00    8.250000    0.000000    2.410000      500.000000   \n",
       "25%    2.779000e+04   12.635000    0.090000    6.075000     1900.000000   \n",
       "50%    1.431000e+05   20.340000    0.440000    8.230000     5100.000000   \n",
       "75%    5.209850e+05   30.200000    3.150000   11.965000    14450.000000   \n",
       "max    1.707520e+07   50.730000  331.660000   29.740000    55100.000000   \n",
       "\n",
       "       infant-mortality  net-migration    population  \n",
       "count        175.000000     175.000000  1.750000e+02  \n",
       "mean          38.052743       0.123314  3.588318e+07  \n",
       "std           35.369320       4.466356  1.333418e+08  \n",
       "min            2.290000     -13.920000  7.502000e+03  \n",
       "25%            8.550000      -0.905000  2.033239e+06  \n",
       "50%           24.180000       0.000000  7.523934e+06  \n",
       "75%           62.155000       0.770000  2.272283e+07  \n",
       "max          163.070000      23.060000  1.313974e+09  "
      ]
     },
     "execution_count": 21,
     "metadata": {},
     "output_type": "execute_result"
    }
   ],
   "source": [
    "#q6\n",
    "describe_data"
   ]
  },
  {
   "cell_type": "code",
   "execution_count": 22,
   "metadata": {},
   "outputs": [],
   "source": [
    "data['literacy'] = data['literacy'].str.replace(\",\", \".\").astype(float)\n",
    "data['phones'] = data['phones'].str.replace(\",\", \".\").astype(float)\n",
    "q7 = data.describe()"
   ]
  },
  {
   "cell_type": "code",
   "execution_count": 23,
   "metadata": {},
   "outputs": [
    {
     "data": {
      "text/html": [
       "<div>\n",
       "<style scoped>\n",
       "    .dataframe tbody tr th:only-of-type {\n",
       "        vertical-align: middle;\n",
       "    }\n",
       "\n",
       "    .dataframe tbody tr th {\n",
       "        vertical-align: top;\n",
       "    }\n",
       "\n",
       "    .dataframe thead th {\n",
       "        text-align: right;\n",
       "    }\n",
       "</style>\n",
       "<table border=\"1\" class=\"dataframe\">\n",
       "  <thead>\n",
       "    <tr style=\"text-align: right;\">\n",
       "      <th></th>\n",
       "      <th>area</th>\n",
       "      <th>birth-rate</th>\n",
       "      <th>coastline</th>\n",
       "      <th>death-rate</th>\n",
       "      <th>gdp-per-capita</th>\n",
       "      <th>infant-mortality</th>\n",
       "      <th>literacy</th>\n",
       "      <th>net-migration</th>\n",
       "      <th>phones</th>\n",
       "      <th>population</th>\n",
       "    </tr>\n",
       "  </thead>\n",
       "  <tbody>\n",
       "    <tr>\n",
       "      <th>count</th>\n",
       "      <td>1.750000e+02</td>\n",
       "      <td>175.000000</td>\n",
       "      <td>175.000000</td>\n",
       "      <td>175.000000</td>\n",
       "      <td>175.000000</td>\n",
       "      <td>175.000000</td>\n",
       "      <td>175.000000</td>\n",
       "      <td>175.000000</td>\n",
       "      <td>175.000000</td>\n",
       "      <td>1.750000e+02</td>\n",
       "    </tr>\n",
       "    <tr>\n",
       "      <th>mean</th>\n",
       "      <td>7.285332e+05</td>\n",
       "      <td>22.536114</td>\n",
       "      <td>10.833657</td>\n",
       "      <td>9.654971</td>\n",
       "      <td>9781.714286</td>\n",
       "      <td>38.052743</td>\n",
       "      <td>82.182286</td>\n",
       "      <td>0.123314</td>\n",
       "      <td>214.621143</td>\n",
       "      <td>3.588318e+07</td>\n",
       "    </tr>\n",
       "    <tr>\n",
       "      <th>std</th>\n",
       "      <td>2.005565e+06</td>\n",
       "      <td>11.287090</td>\n",
       "      <td>38.245751</td>\n",
       "      <td>5.187216</td>\n",
       "      <td>10612.928974</td>\n",
       "      <td>35.369320</td>\n",
       "      <td>20.086897</td>\n",
       "      <td>4.466356</td>\n",
       "      <td>218.613971</td>\n",
       "      <td>1.333418e+08</td>\n",
       "    </tr>\n",
       "    <tr>\n",
       "      <th>min</th>\n",
       "      <td>2.000000e+00</td>\n",
       "      <td>8.250000</td>\n",
       "      <td>0.000000</td>\n",
       "      <td>2.410000</td>\n",
       "      <td>500.000000</td>\n",
       "      <td>2.290000</td>\n",
       "      <td>17.600000</td>\n",
       "      <td>-13.920000</td>\n",
       "      <td>1.300000</td>\n",
       "      <td>7.502000e+03</td>\n",
       "    </tr>\n",
       "    <tr>\n",
       "      <th>25%</th>\n",
       "      <td>2.779000e+04</td>\n",
       "      <td>12.635000</td>\n",
       "      <td>0.090000</td>\n",
       "      <td>6.075000</td>\n",
       "      <td>1900.000000</td>\n",
       "      <td>8.550000</td>\n",
       "      <td>69.950000</td>\n",
       "      <td>-0.905000</td>\n",
       "      <td>31.300000</td>\n",
       "      <td>2.033239e+06</td>\n",
       "    </tr>\n",
       "    <tr>\n",
       "      <th>50%</th>\n",
       "      <td>1.431000e+05</td>\n",
       "      <td>20.340000</td>\n",
       "      <td>0.440000</td>\n",
       "      <td>8.230000</td>\n",
       "      <td>5100.000000</td>\n",
       "      <td>24.180000</td>\n",
       "      <td>92.000000</td>\n",
       "      <td>0.000000</td>\n",
       "      <td>140.100000</td>\n",
       "      <td>7.523934e+06</td>\n",
       "    </tr>\n",
       "    <tr>\n",
       "      <th>75%</th>\n",
       "      <td>5.209850e+05</td>\n",
       "      <td>30.200000</td>\n",
       "      <td>3.150000</td>\n",
       "      <td>11.965000</td>\n",
       "      <td>14450.000000</td>\n",
       "      <td>62.155000</td>\n",
       "      <td>98.000000</td>\n",
       "      <td>0.770000</td>\n",
       "      <td>329.700000</td>\n",
       "      <td>2.272283e+07</td>\n",
       "    </tr>\n",
       "    <tr>\n",
       "      <th>max</th>\n",
       "      <td>1.707520e+07</td>\n",
       "      <td>50.730000</td>\n",
       "      <td>331.660000</td>\n",
       "      <td>29.740000</td>\n",
       "      <td>55100.000000</td>\n",
       "      <td>163.070000</td>\n",
       "      <td>100.000000</td>\n",
       "      <td>23.060000</td>\n",
       "      <td>1035.600000</td>\n",
       "      <td>1.313974e+09</td>\n",
       "    </tr>\n",
       "  </tbody>\n",
       "</table>\n",
       "</div>"
      ],
      "text/plain": [
       "               area  birth-rate   coastline  death-rate  gdp-per-capita  \\\n",
       "count  1.750000e+02  175.000000  175.000000  175.000000      175.000000   \n",
       "mean   7.285332e+05   22.536114   10.833657    9.654971     9781.714286   \n",
       "std    2.005565e+06   11.287090   38.245751    5.187216    10612.928974   \n",
       "min    2.000000e+00    8.250000    0.000000    2.410000      500.000000   \n",
       "25%    2.779000e+04   12.635000    0.090000    6.075000     1900.000000   \n",
       "50%    1.431000e+05   20.340000    0.440000    8.230000     5100.000000   \n",
       "75%    5.209850e+05   30.200000    3.150000   11.965000    14450.000000   \n",
       "max    1.707520e+07   50.730000  331.660000   29.740000    55100.000000   \n",
       "\n",
       "       infant-mortality    literacy  net-migration       phones    population  \n",
       "count        175.000000  175.000000     175.000000   175.000000  1.750000e+02  \n",
       "mean          38.052743   82.182286       0.123314   214.621143  3.588318e+07  \n",
       "std           35.369320   20.086897       4.466356   218.613971  1.333418e+08  \n",
       "min            2.290000   17.600000     -13.920000     1.300000  7.502000e+03  \n",
       "25%            8.550000   69.950000      -0.905000    31.300000  2.033239e+06  \n",
       "50%           24.180000   92.000000       0.000000   140.100000  7.523934e+06  \n",
       "75%           62.155000   98.000000       0.770000   329.700000  2.272283e+07  \n",
       "max          163.070000  100.000000      23.060000  1035.600000  1.313974e+09  "
      ]
     },
     "execution_count": 23,
     "metadata": {},
     "output_type": "execute_result"
    }
   ],
   "source": [
    "#q7\n",
    "q7"
   ]
  },
  {
   "cell_type": "code",
   "execution_count": 24,
   "metadata": {},
   "outputs": [],
   "source": [
    "land_lock_EU = data[(data['coastline'] == 0) & (data['continent'] == 'Europe')]\n",
    "sorted_land_lock_EU = land_lock_EU.sort_values(by=['area'])\n",
    "largest_land_lock_EU_array= sorted_land_lock_EU.tail(1)\n",
    "largest_land_lock_EU = largest_land_lock_EU_array['country']\n",
    "q8 = pd.Series.item(largest_land_lock_EU)\n",
    "\n"
   ]
  },
  {
   "cell_type": "code",
   "execution_count": 25,
   "metadata": {},
   "outputs": [
    {
     "data": {
      "text/plain": [
       "'Belarus'"
      ]
     },
     "execution_count": 25,
     "metadata": {},
     "output_type": "execute_result"
    }
   ],
   "source": [
    "#q8\n",
    "q8"
   ]
  },
  {
   "cell_type": "code",
   "execution_count": 26,
   "metadata": {},
   "outputs": [],
   "source": [
    "land_lock_Africa = data[(data['coastline'] == 0) & (data['continent'] == 'Africa')]\n",
    "sorted_land_lock_Africa = land_lock_Africa.sort_values(by=['area'])\n",
    "largest_land_lock_Africa_array= sorted_land_lock_Africa.tail(1)\n",
    "largest_land_lock_Africa = largest_land_lock_Africa_array['country']\n",
    "q9 = pd.Series.item(largest_land_lock_Africa)"
   ]
  },
  {
   "cell_type": "code",
   "execution_count": 27,
   "metadata": {},
   "outputs": [
    {
     "data": {
      "text/plain": [
       "'Chad'"
      ]
     },
     "execution_count": 27,
     "metadata": {},
     "output_type": "execute_result"
    }
   ],
   "source": [
    "#q9\n",
    "q9"
   ]
  },
  {
   "cell_type": "code",
   "execution_count": 28,
   "metadata": {},
   "outputs": [],
   "source": [
    "land_lock_SA = data[(data['coastline'] == 0) & (data['continent'] == 'South America')]\n",
    "sorted_land_lock_SA = land_lock_SA.sort_values(by=['area'])\n",
    "largest_land_lock_SA_array= sorted_land_lock_SA.tail(1)\n",
    "largest_land_lock_SA = largest_land_lock_SA_array['country']\n",
    "q10 = pd.Series.item(largest_land_lock_SA)"
   ]
  },
  {
   "cell_type": "code",
   "execution_count": 29,
   "metadata": {},
   "outputs": [
    {
     "data": {
      "text/plain": [
       "'Bolivia'"
      ]
     },
     "execution_count": 29,
     "metadata": {},
     "output_type": "execute_result"
    }
   ],
   "source": [
    "#q10\n",
    "q10"
   ]
  },
  {
   "cell_type": "code",
   "execution_count": 30,
   "metadata": {},
   "outputs": [],
   "source": [
    "def find_distance_manual(Country1, Country2):\n",
    "    Radius_earth = 3956\n",
    "    Lat1 = Country1['latitude']\n",
    "    Lat2 = Country2['latitude']\n",
    "    Long1 = Country1['longitude']\n",
    "    Long2 = Country2['longitude']\n",
    "    dlon = abs(math.radians(Long2 - Long1))\n",
    "    dlat = abs(math.radians(Lat2 - Lat1))\n",
    "    x = ((math.sin( dlat / 2))**2) + ((math.cos(math.radians(Lat1))) * (math.cos(math.radians(Lat2))) * ((math.sin(dlon / 2))**2))\n",
    "    y = (2 * math.asin((math.sqrt(x))))\n",
    "    z = Radius_earth * y\n",
    "\n",
    "    return z\n",
    "\n",
    "q11 = find_distance_manual({'latitude': 43.070231, 'longitude': -89.411893}, {'latitude': 43.074645, 'longitude': -89.384113})"
   ]
  },
  {
   "cell_type": "code",
   "execution_count": 31,
   "metadata": {},
   "outputs": [
    {
     "data": {
      "text/plain": [
       "1.4338994920734274"
      ]
     },
     "execution_count": 31,
     "metadata": {},
     "output_type": "execute_result"
    }
   ],
   "source": [
    "#q11\n",
    "q11"
   ]
  },
  {
   "cell_type": "code",
   "execution_count": 32,
   "metadata": {},
   "outputs": [],
   "source": [
    "def find_distance(Country1, Country2):\n",
    "    Radius_earth = 3956\n",
    "    Country1 = master_frame.set_index('country').loc[Country1]\n",
    "    Country2 = master_frame.set_index('country').loc[Country2]\n",
    "    Lat1 = Country1['latitude']\n",
    "    Lat2 = Country2['latitude']\n",
    "    Long1 = Country1['longitude']\n",
    "    Long2 = Country2['longitude']\n",
    "    dlon = abs(math.radians(Long2 - Long1))\n",
    "    dlat = abs(math.radians(Lat2 - Lat1))\n",
    "    x = ((math.sin( dlat / 2))**2) + ((math.cos(math.radians(Lat1))) * (math.cos(math.radians(Lat2))) * ((math.sin(dlon / 2))**2))\n",
    "    y = (2 * math.asin((math.sqrt(x))))\n",
    "    z = Radius_earth * y\n",
    "\n",
    "    return z"
   ]
  },
  {
   "cell_type": "code",
   "execution_count": 33,
   "metadata": {},
   "outputs": [],
   "source": [
    "q12 = find_distance('India', 'Brazil')"
   ]
  },
  {
   "cell_type": "code",
   "execution_count": 34,
   "metadata": {},
   "outputs": [
    {
     "data": {
      "text/plain": [
       "8840.574141306945"
      ]
     },
     "execution_count": 34,
     "metadata": {},
     "output_type": "execute_result"
    }
   ],
   "source": [
    "#q12\n",
    "q12"
   ]
  },
  {
   "cell_type": "code",
   "execution_count": 35,
   "metadata": {},
   "outputs": [],
   "source": [
    "pd.options.display.precision = 10\n",
    "# got this from stack overflow it was rounding the values of my code when converting to a DataFrame"
   ]
  },
  {
   "cell_type": "code",
   "execution_count": 36,
   "metadata": {},
   "outputs": [],
   "source": [
    "list_SA = []\n",
    "# for SA_country in master_frame:\n",
    "SA_countries = data[data['continent'] == 'South America']\n",
    "for SA_country in SA_countries['country']:\n",
    "    list_SA.append(SA_country)\n",
    "list_SA_dicts = []\n",
    "master_SA_dist = {}\n",
    "for SA_item in list_SA:\n",
    "    SA_dist = {}\n",
    "    for i_manual in list_SA:\n",
    "        if i_manual == SA_item:\n",
    "            SA_dist[i_manual] = 'NaN'\n",
    "        else:\n",
    "            SA_dist[i_manual] = float(find_distance(SA_item, i_manual))\n",
    "    master_SA_dist[SA_item] = SA_dist\n",
    "q13 = pd.DataFrame(master_SA_dist)\n",
    "\n",
    "    \n",
    "            \n",
    "        "
   ]
  },
  {
   "cell_type": "code",
   "execution_count": 37,
   "metadata": {},
   "outputs": [
    {
     "data": {
      "text/html": [
       "<div>\n",
       "<style scoped>\n",
       "    .dataframe tbody tr th:only-of-type {\n",
       "        vertical-align: middle;\n",
       "    }\n",
       "\n",
       "    .dataframe tbody tr th {\n",
       "        vertical-align: top;\n",
       "    }\n",
       "\n",
       "    .dataframe thead th {\n",
       "        text-align: right;\n",
       "    }\n",
       "</style>\n",
       "<table border=\"1\" class=\"dataframe\">\n",
       "  <thead>\n",
       "    <tr style=\"text-align: right;\">\n",
       "      <th></th>\n",
       "      <th>Chile</th>\n",
       "      <th>Guyana</th>\n",
       "      <th>Colombia</th>\n",
       "      <th>Suriname</th>\n",
       "      <th>Brazil</th>\n",
       "      <th>Bolivia</th>\n",
       "      <th>Venezuela</th>\n",
       "      <th>Argentina</th>\n",
       "      <th>Peru</th>\n",
       "      <th>Ecuador</th>\n",
       "      <th>Uruguay</th>\n",
       "      <th>Paraguay</th>\n",
       "    </tr>\n",
       "  </thead>\n",
       "  <tbody>\n",
       "    <tr>\n",
       "      <th>Argentina</th>\n",
       "      <td>690.7841682</td>\n",
       "      <td>2857.520462</td>\n",
       "      <td>2885.35561</td>\n",
       "      <td>2799.886429</td>\n",
       "      <td>1459.139733</td>\n",
       "      <td>1379.455702</td>\n",
       "      <td>3157.624051</td>\n",
       "      <td>NaN</td>\n",
       "      <td>1936.46579</td>\n",
       "      <td>2696.149591</td>\n",
       "      <td>143.0699429</td>\n",
       "      <td>646.0364417</td>\n",
       "    </tr>\n",
       "    <tr>\n",
       "      <th>Bolivia</th>\n",
       "      <td>1180.741903</td>\n",
       "      <td>1747.77267</td>\n",
       "      <td>1512.119255</td>\n",
       "      <td>1778.772975</td>\n",
       "      <td>1342.297074</td>\n",
       "      <td>NaN</td>\n",
       "      <td>1865.131181</td>\n",
       "      <td>1379.455702</td>\n",
       "      <td>669.9263719</td>\n",
       "      <td>1326.758656</td>\n",
       "      <td>1467.253638</td>\n",
       "      <td>906.7992558</td>\n",
       "    </tr>\n",
       "    <tr>\n",
       "      <th>Brazil</th>\n",
       "      <td>1869.737031</td>\n",
       "      <td>1709.071018</td>\n",
       "      <td>2275.516286</td>\n",
       "      <td>1572.674233</td>\n",
       "      <td>NaN</td>\n",
       "      <td>1342.297074</td>\n",
       "      <td>2228.69068</td>\n",
       "      <td>1459.139733</td>\n",
       "      <td>1967.770515</td>\n",
       "      <td>2344.584922</td>\n",
       "      <td>1412.096335</td>\n",
       "      <td>908.1857093</td>\n",
       "    </tr>\n",
       "    <tr>\n",
       "      <th>Chile</th>\n",
       "      <td>NaN</td>\n",
       "      <td>2897.553095</td>\n",
       "      <td>2636.644599</td>\n",
       "      <td>2895.810776</td>\n",
       "      <td>1869.737031</td>\n",
       "      <td>1180.741903</td>\n",
       "      <td>3043.657689</td>\n",
       "      <td>690.7841682</td>\n",
       "      <td>1531.480189</td>\n",
       "      <td>2350.207788</td>\n",
       "      <td>833.4032617</td>\n",
       "      <td>963.6355351</td>\n",
       "    </tr>\n",
       "    <tr>\n",
       "      <th>Colombia</th>\n",
       "      <td>2636.644599</td>\n",
       "      <td>1105.066312</td>\n",
       "      <td>NaN</td>\n",
       "      <td>1303.405134</td>\n",
       "      <td>2275.516286</td>\n",
       "      <td>1512.119255</td>\n",
       "      <td>639.3611182</td>\n",
       "      <td>2885.35561</td>\n",
       "      <td>1167.505359</td>\n",
       "      <td>451.0041191</td>\n",
       "      <td>2962.230943</td>\n",
       "      <td>2337.615967</td>\n",
       "    </tr>\n",
       "    <tr>\n",
       "      <th>Ecuador</th>\n",
       "      <td>2350.207788</td>\n",
       "      <td>1483.193753</td>\n",
       "      <td>451.0041191</td>\n",
       "      <td>1661.699022</td>\n",
       "      <td>2344.584922</td>\n",
       "      <td>1326.758656</td>\n",
       "      <td>1088.064118</td>\n",
       "      <td>2696.149591</td>\n",
       "      <td>823.0544909</td>\n",
       "      <td>NaN</td>\n",
       "      <td>2791.196721</td>\n",
       "      <td>2218.650964</td>\n",
       "    </tr>\n",
       "    <tr>\n",
       "      <th>Guyana</th>\n",
       "      <td>2897.553095</td>\n",
       "      <td>NaN</td>\n",
       "      <td>1105.066312</td>\n",
       "      <td>215.3363363</td>\n",
       "      <td>1709.071018</td>\n",
       "      <td>1747.77267</td>\n",
       "      <td>646.9698431</td>\n",
       "      <td>2857.520462</td>\n",
       "      <td>1837.860149</td>\n",
       "      <td>1483.193753</td>\n",
       "      <td>2878.638295</td>\n",
       "      <td>2214.288286</td>\n",
       "    </tr>\n",
       "    <tr>\n",
       "      <th>Paraguay</th>\n",
       "      <td>963.6355351</td>\n",
       "      <td>2214.288286</td>\n",
       "      <td>2337.615967</td>\n",
       "      <td>2153.855447</td>\n",
       "      <td>908.1857093</td>\n",
       "      <td>906.7992558</td>\n",
       "      <td>2544.799572</td>\n",
       "      <td>646.0364417</td>\n",
       "      <td>1558.635236</td>\n",
       "      <td>2218.650964</td>\n",
       "      <td>667.699386</td>\n",
       "      <td>NaN</td>\n",
       "    </tr>\n",
       "    <tr>\n",
       "      <th>Peru</th>\n",
       "      <td>1531.480189</td>\n",
       "      <td>1837.860149</td>\n",
       "      <td>1167.505359</td>\n",
       "      <td>1944.750017</td>\n",
       "      <td>1967.770515</td>\n",
       "      <td>669.9263719</td>\n",
       "      <td>1705.418003</td>\n",
       "      <td>1936.46579</td>\n",
       "      <td>NaN</td>\n",
       "      <td>823.0544909</td>\n",
       "      <td>2046.571589</td>\n",
       "      <td>1558.635236</td>\n",
       "    </tr>\n",
       "    <tr>\n",
       "      <th>Suriname</th>\n",
       "      <td>2895.810776</td>\n",
       "      <td>215.3363363</td>\n",
       "      <td>1303.405134</td>\n",
       "      <td>NaN</td>\n",
       "      <td>1572.674233</td>\n",
       "      <td>1778.772975</td>\n",
       "      <td>861.4567862</td>\n",
       "      <td>2799.886429</td>\n",
       "      <td>1944.750017</td>\n",
       "      <td>1661.699022</td>\n",
       "      <td>2809.744412</td>\n",
       "      <td>2153.855447</td>\n",
       "    </tr>\n",
       "    <tr>\n",
       "      <th>Uruguay</th>\n",
       "      <td>833.4032617</td>\n",
       "      <td>2878.638295</td>\n",
       "      <td>2962.230943</td>\n",
       "      <td>2809.744412</td>\n",
       "      <td>1412.096335</td>\n",
       "      <td>1467.253638</td>\n",
       "      <td>3207.352176</td>\n",
       "      <td>143.0699429</td>\n",
       "      <td>2046.571589</td>\n",
       "      <td>2791.196721</td>\n",
       "      <td>NaN</td>\n",
       "      <td>667.699386</td>\n",
       "    </tr>\n",
       "    <tr>\n",
       "      <th>Venezuela</th>\n",
       "      <td>3043.657689</td>\n",
       "      <td>646.9698431</td>\n",
       "      <td>639.3611182</td>\n",
       "      <td>861.4567862</td>\n",
       "      <td>2228.69068</td>\n",
       "      <td>1865.131181</td>\n",
       "      <td>NaN</td>\n",
       "      <td>3157.624051</td>\n",
       "      <td>1705.418003</td>\n",
       "      <td>1088.064118</td>\n",
       "      <td>3207.352176</td>\n",
       "      <td>2544.799572</td>\n",
       "    </tr>\n",
       "  </tbody>\n",
       "</table>\n",
       "</div>"
      ],
      "text/plain": [
       "                 Chile       Guyana     Colombia     Suriname       Brazil  \\\n",
       "Argentina  690.7841682  2857.520462   2885.35561  2799.886429  1459.139733   \n",
       "Bolivia    1180.741903   1747.77267  1512.119255  1778.772975  1342.297074   \n",
       "Brazil     1869.737031  1709.071018  2275.516286  1572.674233          NaN   \n",
       "Chile              NaN  2897.553095  2636.644599  2895.810776  1869.737031   \n",
       "Colombia   2636.644599  1105.066312          NaN  1303.405134  2275.516286   \n",
       "Ecuador    2350.207788  1483.193753  451.0041191  1661.699022  2344.584922   \n",
       "Guyana     2897.553095          NaN  1105.066312  215.3363363  1709.071018   \n",
       "Paraguay   963.6355351  2214.288286  2337.615967  2153.855447  908.1857093   \n",
       "Peru       1531.480189  1837.860149  1167.505359  1944.750017  1967.770515   \n",
       "Suriname   2895.810776  215.3363363  1303.405134          NaN  1572.674233   \n",
       "Uruguay    833.4032617  2878.638295  2962.230943  2809.744412  1412.096335   \n",
       "Venezuela  3043.657689  646.9698431  639.3611182  861.4567862   2228.69068   \n",
       "\n",
       "               Bolivia    Venezuela    Argentina         Peru      Ecuador  \\\n",
       "Argentina  1379.455702  3157.624051          NaN   1936.46579  2696.149591   \n",
       "Bolivia            NaN  1865.131181  1379.455702  669.9263719  1326.758656   \n",
       "Brazil     1342.297074   2228.69068  1459.139733  1967.770515  2344.584922   \n",
       "Chile      1180.741903  3043.657689  690.7841682  1531.480189  2350.207788   \n",
       "Colombia   1512.119255  639.3611182   2885.35561  1167.505359  451.0041191   \n",
       "Ecuador    1326.758656  1088.064118  2696.149591  823.0544909          NaN   \n",
       "Guyana      1747.77267  646.9698431  2857.520462  1837.860149  1483.193753   \n",
       "Paraguay   906.7992558  2544.799572  646.0364417  1558.635236  2218.650964   \n",
       "Peru       669.9263719  1705.418003   1936.46579          NaN  823.0544909   \n",
       "Suriname   1778.772975  861.4567862  2799.886429  1944.750017  1661.699022   \n",
       "Uruguay    1467.253638  3207.352176  143.0699429  2046.571589  2791.196721   \n",
       "Venezuela  1865.131181          NaN  3157.624051  1705.418003  1088.064118   \n",
       "\n",
       "               Uruguay     Paraguay  \n",
       "Argentina  143.0699429  646.0364417  \n",
       "Bolivia    1467.253638  906.7992558  \n",
       "Brazil     1412.096335  908.1857093  \n",
       "Chile      833.4032617  963.6355351  \n",
       "Colombia   2962.230943  2337.615967  \n",
       "Ecuador    2791.196721  2218.650964  \n",
       "Guyana     2878.638295  2214.288286  \n",
       "Paraguay    667.699386          NaN  \n",
       "Peru       2046.571589  1558.635236  \n",
       "Suriname   2809.744412  2153.855447  \n",
       "Uruguay            NaN   667.699386  \n",
       "Venezuela  3207.352176  2544.799572  "
      ]
     },
     "execution_count": 37,
     "metadata": {},
     "output_type": "execute_result"
    }
   ],
   "source": [
    "#q13\n",
    "q13"
   ]
  },
  {
   "cell_type": "code",
   "execution_count": 38,
   "metadata": {},
   "outputs": [],
   "source": [
    "# for country_SA in q13:\n",
    "#     print(country_SA)\n",
    "#     q14 = q13.replace({country_SA : { country_SA : 0}})\n",
    "# print(q14)\n",
    "# # q_14_mean_table = pd.DataFrame.mean(q13)\n",
    "# # print(q_14_mean_table)\n",
    "list_SA1 = []\n",
    "SA_countries1 = data[data['continent'] == 'South America']\n",
    "for SA_country1 in SA_countries1['country']:\n",
    "    list_SA1.append(SA_country1)\n",
    "list_SA_dicts1 = []\n",
    "master_SA_dist1 = {}\n",
    "for SA_item1 in list_SA1:\n",
    "    SA_dist1 = {}\n",
    "    for i_manual1 in list_SA1:\n",
    "        if i_manual1 == SA_item1:\n",
    "            SA_dist1[i_manual1] = 0\n",
    "        else:\n",
    "            SA_dist1[i_manual1] = float(find_distance(SA_item1, i_manual1))\n",
    "    master_SA_dist1[SA_item1] = SA_dist1\n",
    "q14_data = pd.DataFrame(master_SA_dist1)\n",
    "q_14_mean_table = pd.DataFrame.mean(q14_data)\n",
    "q14_sorted = (pd.Series.sort_values(q_14_mean_table)).index\n",
    "q14 = q14_sorted[0]"
   ]
  },
  {
   "cell_type": "code",
   "execution_count": 39,
   "metadata": {},
   "outputs": [
    {
     "data": {
      "text/plain": [
       "'Bolivia'"
      ]
     },
     "execution_count": 39,
     "metadata": {},
     "output_type": "execute_result"
    }
   ],
   "source": [
    "#q14\n",
    "q14"
   ]
  },
  {
   "cell_type": "code",
   "execution_count": 40,
   "metadata": {},
   "outputs": [],
   "source": [
    "master_SA_near = {}\n",
    "level_1_SA_country = {}\n",
    "level_1_SA_distance = {}\n",
    "for even_more_SA in list_SA1:\n",
    "    nearest_SA_Data = q14_data.loc[:, even_more_SA]\n",
    "    q15_sorted_index = (pd.Series.sort_values(nearest_SA_Data)).index\n",
    "    q15_sorted_values = (pd.Series.sort_values(nearest_SA_Data)).values\n",
    "    near_country = q15_sorted_index[1]\n",
    "    near_distance = q15_sorted_values[1]\n",
    "    level_1_SA_country[even_more_SA] = near_country\n",
    "    level_1_SA_distance[even_more_SA] = near_distance\n",
    "    master_SA_near['nearest'] = level_1_SA_country\n",
    "    master_SA_near['distance'] = level_1_SA_distance\n",
    "q15 = pd.DataFrame(master_SA_near)"
   ]
  },
  {
   "cell_type": "code",
   "execution_count": 41,
   "metadata": {},
   "outputs": [
    {
     "data": {
      "text/html": [
       "<div>\n",
       "<style scoped>\n",
       "    .dataframe tbody tr th:only-of-type {\n",
       "        vertical-align: middle;\n",
       "    }\n",
       "\n",
       "    .dataframe tbody tr th {\n",
       "        vertical-align: top;\n",
       "    }\n",
       "\n",
       "    .dataframe thead th {\n",
       "        text-align: right;\n",
       "    }\n",
       "</style>\n",
       "<table border=\"1\" class=\"dataframe\">\n",
       "  <thead>\n",
       "    <tr style=\"text-align: right;\">\n",
       "      <th></th>\n",
       "      <th>nearest</th>\n",
       "      <th>distance</th>\n",
       "    </tr>\n",
       "  </thead>\n",
       "  <tbody>\n",
       "    <tr>\n",
       "      <th>Argentina</th>\n",
       "      <td>Uruguay</td>\n",
       "      <td>143.0699428732</td>\n",
       "    </tr>\n",
       "    <tr>\n",
       "      <th>Bolivia</th>\n",
       "      <td>Peru</td>\n",
       "      <td>669.9263719405</td>\n",
       "    </tr>\n",
       "    <tr>\n",
       "      <th>Brazil</th>\n",
       "      <td>Paraguay</td>\n",
       "      <td>908.1857092901</td>\n",
       "    </tr>\n",
       "    <tr>\n",
       "      <th>Chile</th>\n",
       "      <td>Argentina</td>\n",
       "      <td>690.7841682029</td>\n",
       "    </tr>\n",
       "    <tr>\n",
       "      <th>Colombia</th>\n",
       "      <td>Ecuador</td>\n",
       "      <td>451.0041190701</td>\n",
       "    </tr>\n",
       "    <tr>\n",
       "      <th>Ecuador</th>\n",
       "      <td>Colombia</td>\n",
       "      <td>451.0041190701</td>\n",
       "    </tr>\n",
       "    <tr>\n",
       "      <th>Guyana</th>\n",
       "      <td>Suriname</td>\n",
       "      <td>215.3363362973</td>\n",
       "    </tr>\n",
       "    <tr>\n",
       "      <th>Paraguay</th>\n",
       "      <td>Argentina</td>\n",
       "      <td>646.0364416629</td>\n",
       "    </tr>\n",
       "    <tr>\n",
       "      <th>Peru</th>\n",
       "      <td>Bolivia</td>\n",
       "      <td>669.9263719405</td>\n",
       "    </tr>\n",
       "    <tr>\n",
       "      <th>Suriname</th>\n",
       "      <td>Guyana</td>\n",
       "      <td>215.3363362973</td>\n",
       "    </tr>\n",
       "    <tr>\n",
       "      <th>Uruguay</th>\n",
       "      <td>Argentina</td>\n",
       "      <td>143.0699428732</td>\n",
       "    </tr>\n",
       "    <tr>\n",
       "      <th>Venezuela</th>\n",
       "      <td>Colombia</td>\n",
       "      <td>639.3611182051</td>\n",
       "    </tr>\n",
       "  </tbody>\n",
       "</table>\n",
       "</div>"
      ],
      "text/plain": [
       "             nearest        distance\n",
       "Argentina    Uruguay  143.0699428732\n",
       "Bolivia         Peru  669.9263719405\n",
       "Brazil      Paraguay  908.1857092901\n",
       "Chile      Argentina  690.7841682029\n",
       "Colombia     Ecuador  451.0041190701\n",
       "Ecuador     Colombia  451.0041190701\n",
       "Guyana      Suriname  215.3363362973\n",
       "Paraguay   Argentina  646.0364416629\n",
       "Peru         Bolivia  669.9263719405\n",
       "Suriname      Guyana  215.3363362973\n",
       "Uruguay    Argentina  143.0699428732\n",
       "Venezuela   Colombia  639.3611182051"
      ]
     },
     "execution_count": 41,
     "metadata": {},
     "output_type": "execute_result"
    }
   ],
   "source": [
    "#q15\n",
    "q15"
   ]
  },
  {
   "cell_type": "code",
   "execution_count": 42,
   "metadata": {},
   "outputs": [],
   "source": [
    "import sqlite3\n",
    "conn = sqlite3.connect('countries.db')\n",
    "data.to_sql(\"countries_table\", conn, if_exists=\"replace\", index=False)\n",
    "q16 = pd.read_sql('SELECT country, population FROM countries_table WHERE continent = \"North America\" and population < 100000 ORDER BY population ASC', conn)"
   ]
  },
  {
   "cell_type": "code",
   "execution_count": 43,
   "metadata": {},
   "outputs": [
    {
     "data": {
      "text/html": [
       "<div>\n",
       "<style scoped>\n",
       "    .dataframe tbody tr th:only-of-type {\n",
       "        vertical-align: middle;\n",
       "    }\n",
       "\n",
       "    .dataframe tbody tr th {\n",
       "        vertical-align: top;\n",
       "    }\n",
       "\n",
       "    .dataframe thead th {\n",
       "        text-align: right;\n",
       "    }\n",
       "</style>\n",
       "<table border=\"1\" class=\"dataframe\">\n",
       "  <thead>\n",
       "    <tr style=\"text-align: right;\">\n",
       "      <th></th>\n",
       "      <th>country</th>\n",
       "      <th>population</th>\n",
       "    </tr>\n",
       "  </thead>\n",
       "  <tbody>\n",
       "    <tr>\n",
       "      <th>0</th>\n",
       "      <td>Anguilla</td>\n",
       "      <td>13477</td>\n",
       "    </tr>\n",
       "    <tr>\n",
       "      <th>1</th>\n",
       "      <td>Cayman Islands</td>\n",
       "      <td>45436</td>\n",
       "    </tr>\n",
       "    <tr>\n",
       "      <th>2</th>\n",
       "      <td>Bermuda</td>\n",
       "      <td>65773</td>\n",
       "    </tr>\n",
       "    <tr>\n",
       "      <th>3</th>\n",
       "      <td>Dominica</td>\n",
       "      <td>68910</td>\n",
       "    </tr>\n",
       "    <tr>\n",
       "      <th>4</th>\n",
       "      <td>Aruba</td>\n",
       "      <td>71891</td>\n",
       "    </tr>\n",
       "    <tr>\n",
       "      <th>5</th>\n",
       "      <td>Grenada</td>\n",
       "      <td>89703</td>\n",
       "    </tr>\n",
       "  </tbody>\n",
       "</table>\n",
       "</div>"
      ],
      "text/plain": [
       "          country  population\n",
       "0        Anguilla       13477\n",
       "1  Cayman Islands       45436\n",
       "2         Bermuda       65773\n",
       "3        Dominica       68910\n",
       "4           Aruba       71891\n",
       "5         Grenada       89703"
      ]
     },
     "execution_count": 43,
     "metadata": {},
     "output_type": "execute_result"
    }
   ],
   "source": [
    "#q16\n",
    "q16"
   ]
  },
  {
   "cell_type": "code",
   "execution_count": 44,
   "metadata": {},
   "outputs": [],
   "source": [
    "q17 = pd.read_sql('SELECT country, population FROM countries_table WHERE continent = \"Europe\"  ORDER BY population DESC LIMIT 3', conn)"
   ]
  },
  {
   "cell_type": "code",
   "execution_count": 45,
   "metadata": {},
   "outputs": [
    {
     "data": {
      "text/html": [
       "<div>\n",
       "<style scoped>\n",
       "    .dataframe tbody tr th:only-of-type {\n",
       "        vertical-align: middle;\n",
       "    }\n",
       "\n",
       "    .dataframe tbody tr th {\n",
       "        vertical-align: top;\n",
       "    }\n",
       "\n",
       "    .dataframe thead th {\n",
       "        text-align: right;\n",
       "    }\n",
       "</style>\n",
       "<table border=\"1\" class=\"dataframe\">\n",
       "  <thead>\n",
       "    <tr style=\"text-align: right;\">\n",
       "      <th></th>\n",
       "      <th>country</th>\n",
       "      <th>population</th>\n",
       "    </tr>\n",
       "  </thead>\n",
       "  <tbody>\n",
       "    <tr>\n",
       "      <th>0</th>\n",
       "      <td>Russia</td>\n",
       "      <td>142893540</td>\n",
       "    </tr>\n",
       "    <tr>\n",
       "      <th>1</th>\n",
       "      <td>Germany</td>\n",
       "      <td>82422299</td>\n",
       "    </tr>\n",
       "    <tr>\n",
       "      <th>2</th>\n",
       "      <td>Turkey</td>\n",
       "      <td>70413958</td>\n",
       "    </tr>\n",
       "  </tbody>\n",
       "</table>\n",
       "</div>"
      ],
      "text/plain": [
       "   country  population\n",
       "0   Russia   142893540\n",
       "1  Germany    82422299\n",
       "2   Turkey    70413958"
      ]
     },
     "execution_count": 45,
     "metadata": {},
     "output_type": "execute_result"
    }
   ],
   "source": [
    "#q17\n",
    "q17"
   ]
  },
  {
   "cell_type": "code",
   "execution_count": 46,
   "metadata": {},
   "outputs": [],
   "source": [
    "q18 = pd.read_sql('SELECT continent, AVG(population) as avg_pop FROM countries_table GROUP BY continent ORDER BY avg_pop DESC', conn)\n"
   ]
  },
  {
   "cell_type": "code",
   "execution_count": 47,
   "metadata": {},
   "outputs": [
    {
     "data": {
      "text/html": [
       "<div>\n",
       "<style scoped>\n",
       "    .dataframe tbody tr th:only-of-type {\n",
       "        vertical-align: middle;\n",
       "    }\n",
       "\n",
       "    .dataframe tbody tr th {\n",
       "        vertical-align: top;\n",
       "    }\n",
       "\n",
       "    .dataframe thead th {\n",
       "        text-align: right;\n",
       "    }\n",
       "</style>\n",
       "<table border=\"1\" class=\"dataframe\">\n",
       "  <thead>\n",
       "    <tr style=\"text-align: right;\">\n",
       "      <th></th>\n",
       "      <th>continent</th>\n",
       "      <th>avg_pop</th>\n",
       "    </tr>\n",
       "  </thead>\n",
       "  <tbody>\n",
       "    <tr>\n",
       "      <th>0</th>\n",
       "      <td>Asia</td>\n",
       "      <td>9.8418496395e+07</td>\n",
       "    </tr>\n",
       "    <tr>\n",
       "      <th>1</th>\n",
       "      <td>Central America</td>\n",
       "      <td>4.3516125273e+07</td>\n",
       "    </tr>\n",
       "    <tr>\n",
       "      <th>2</th>\n",
       "      <td>South America</td>\n",
       "      <td>3.1286805500e+07</td>\n",
       "    </tr>\n",
       "    <tr>\n",
       "      <th>3</th>\n",
       "      <td>Europe</td>\n",
       "      <td>1.9318377707e+07</td>\n",
       "    </tr>\n",
       "    <tr>\n",
       "      <th>4</th>\n",
       "      <td>Africa</td>\n",
       "      <td>1.7186542458e+07</td>\n",
       "    </tr>\n",
       "    <tr>\n",
       "      <th>5</th>\n",
       "      <td>North America</td>\n",
       "      <td>2.7972446154e+06</td>\n",
       "    </tr>\n",
       "    <tr>\n",
       "      <th>6</th>\n",
       "      <td>Australia</td>\n",
       "      <td>2.6802520833e+06</td>\n",
       "    </tr>\n",
       "  </tbody>\n",
       "</table>\n",
       "</div>"
      ],
      "text/plain": [
       "         continent           avg_pop\n",
       "0             Asia  9.8418496395e+07\n",
       "1  Central America  4.3516125273e+07\n",
       "2    South America  3.1286805500e+07\n",
       "3           Europe  1.9318377707e+07\n",
       "4           Africa  1.7186542458e+07\n",
       "5    North America  2.7972446154e+06\n",
       "6        Australia  2.6802520833e+06"
      ]
     },
     "execution_count": 47,
     "metadata": {},
     "output_type": "execute_result"
    }
   ],
   "source": [
    "#q18\n",
    "q18"
   ]
  },
  {
   "cell_type": "code",
   "execution_count": 48,
   "metadata": {},
   "outputs": [],
   "source": [
    "q19 = pd.read_sql('SELECT continent, COUNT(continent) as num_countries FROM countries_table GROUP BY continent ORDER BY num_countries ASC, continent ASC', conn)"
   ]
  },
  {
   "cell_type": "code",
   "execution_count": 49,
   "metadata": {},
   "outputs": [
    {
     "data": {
      "text/html": [
       "<div>\n",
       "<style scoped>\n",
       "    .dataframe tbody tr th:only-of-type {\n",
       "        vertical-align: middle;\n",
       "    }\n",
       "\n",
       "    .dataframe tbody tr th {\n",
       "        vertical-align: top;\n",
       "    }\n",
       "\n",
       "    .dataframe thead th {\n",
       "        text-align: right;\n",
       "    }\n",
       "</style>\n",
       "<table border=\"1\" class=\"dataframe\">\n",
       "  <thead>\n",
       "    <tr style=\"text-align: right;\">\n",
       "      <th></th>\n",
       "      <th>continent</th>\n",
       "      <th>num_countries</th>\n",
       "    </tr>\n",
       "  </thead>\n",
       "  <tbody>\n",
       "    <tr>\n",
       "      <th>0</th>\n",
       "      <td>Central America</td>\n",
       "      <td>11</td>\n",
       "    </tr>\n",
       "    <tr>\n",
       "      <th>1</th>\n",
       "      <td>Australia</td>\n",
       "      <td>12</td>\n",
       "    </tr>\n",
       "    <tr>\n",
       "      <th>2</th>\n",
       "      <td>South America</td>\n",
       "      <td>12</td>\n",
       "    </tr>\n",
       "    <tr>\n",
       "      <th>3</th>\n",
       "      <td>North America</td>\n",
       "      <td>13</td>\n",
       "    </tr>\n",
       "    <tr>\n",
       "      <th>4</th>\n",
       "      <td>Asia</td>\n",
       "      <td>38</td>\n",
       "    </tr>\n",
       "    <tr>\n",
       "      <th>5</th>\n",
       "      <td>Europe</td>\n",
       "      <td>41</td>\n",
       "    </tr>\n",
       "    <tr>\n",
       "      <th>6</th>\n",
       "      <td>Africa</td>\n",
       "      <td>48</td>\n",
       "    </tr>\n",
       "  </tbody>\n",
       "</table>\n",
       "</div>"
      ],
      "text/plain": [
       "         continent  num_countries\n",
       "0  Central America             11\n",
       "1        Australia             12\n",
       "2    South America             12\n",
       "3    North America             13\n",
       "4             Asia             38\n",
       "5           Europe             41\n",
       "6           Africa             48"
      ]
     },
     "execution_count": 49,
     "metadata": {},
     "output_type": "execute_result"
    }
   ],
   "source": [
    "#q19\n",
    "q19"
   ]
  },
  {
   "cell_type": "code",
   "execution_count": 50,
   "metadata": {},
   "outputs": [],
   "source": [
    "q20 = pd.read_sql('SELECT continent, AVG(\"death-rate\") as avg_death_rate FROM countries_table GROUP BY Continent HAVING avg_death_rate > 10 ORDER BY avg_death_rate DESC', conn)"
   ]
  },
  {
   "cell_type": "code",
   "execution_count": 51,
   "metadata": {},
   "outputs": [
    {
     "data": {
      "text/html": [
       "<div>\n",
       "<style scoped>\n",
       "    .dataframe tbody tr th:only-of-type {\n",
       "        vertical-align: middle;\n",
       "    }\n",
       "\n",
       "    .dataframe tbody tr th {\n",
       "        vertical-align: top;\n",
       "    }\n",
       "\n",
       "    .dataframe thead th {\n",
       "        text-align: right;\n",
       "    }\n",
       "</style>\n",
       "<table border=\"1\" class=\"dataframe\">\n",
       "  <thead>\n",
       "    <tr style=\"text-align: right;\">\n",
       "      <th></th>\n",
       "      <th>continent</th>\n",
       "      <th>avg_death_rate</th>\n",
       "    </tr>\n",
       "  </thead>\n",
       "  <tbody>\n",
       "    <tr>\n",
       "      <th>0</th>\n",
       "      <td>Africa</td>\n",
       "      <td>14.5047916667</td>\n",
       "    </tr>\n",
       "    <tr>\n",
       "      <th>1</th>\n",
       "      <td>Europe</td>\n",
       "      <td>10.2585365854</td>\n",
       "    </tr>\n",
       "  </tbody>\n",
       "</table>\n",
       "</div>"
      ],
      "text/plain": [
       "  continent  avg_death_rate\n",
       "0    Africa   14.5047916667\n",
       "1    Europe   10.2585365854"
      ]
     },
     "execution_count": 51,
     "metadata": {},
     "output_type": "execute_result"
    }
   ],
   "source": [
    "#q20\n",
    "q20"
   ]
  },
  {
   "cell_type": "code",
   "execution_count": 52,
   "metadata": {},
   "outputs": [],
   "source": [
    "%matplotlib inline\n",
    "import matplotlib\n",
    "matplotlib.rcParams.update({'font.size': 15})"
   ]
  },
  {
   "cell_type": "code",
   "execution_count": 53,
   "metadata": {},
   "outputs": [
    {
     "data": {
      "text/plain": [
       "Text(0,0.5,'avg population per country (millions)')"
      ]
     },
     "execution_count": 53,
     "metadata": {},
     "output_type": "execute_result"
    },
    {
     "data": {
      "image/png": "[encoded data removed]",
      "text/plain": [
       "<Figure size 432x288 with 1 Axes>"
      ]
     },
     "metadata": {
      "needs_background": "light"
     },
     "output_type": "display_data"
    }
   ],
   "source": [
    "#q21\n",
    "q21_data = pd.read_sql('SELECT continent, AVG(population) as avg_pop FROM countries_table GROUP BY continent ORDER BY avg_pop DESC', conn)\n",
    "q21_dict = {}\n",
    "for q21_count in range(len(q21_data['continent'])):\n",
    "    q21_dict[q21_data.loc[q21_count]['continent']] = (q21_data.loc[q21_count]['avg_pop'])/1000000\n",
    "q21_series = pd.Series(q21_dict)\n",
    "q21_sorted = q21_series.sort_index()\n",
    "q21_plot = q21_sorted.plot.bar()\n",
    "q21_plot.set_ylabel('avg population per country (millions)')"
   ]
  },
  {
   "cell_type": "code",
   "execution_count": 54,
   "metadata": {},
   "outputs": [
    {
     "data": {
      "text/plain": [
       "Text(0,0.5,'number of countries')"
      ]
     },
     "execution_count": 54,
     "metadata": {},
     "output_type": "execute_result"
    },
    {
     "data": {
      "image/png": "[encoded data removed]",
      "text/plain": [
       "<Figure size 432x288 with 1 Axes>"
      ]
     },
     "metadata": {
      "needs_background": "light"
     },
     "output_type": "display_data"
    }
   ],
   "source": [
    "#q22\n",
    "q22_data = pd.read_sql('SELECT continent, COUNT(continent) as num_countries FROM countries_table GROUP BY continent ORDER BY num_countries ASC, continent ASC', conn)\n",
    "q22_dict = {}\n",
    "for q22_count in range(len(q22_data['continent'])):\n",
    "    q22_dict[q22_data.loc[q22_count]['continent']] = (q22_data.loc[q22_count]['num_countries'])\n",
    "q22_series = pd.Series(q22_dict)\n",
    "q22_sorted = q22_series.sort_index()\n",
    "q22_plot = q22_sorted.plot.bar()\n",
    "q22_plot.set_ylabel('number of countries')"
   ]
  },
  {
   "cell_type": "code",
   "execution_count": 55,
   "metadata": {},
   "outputs": [
    {
     "data": {
      "text/plain": [
       "Text(0,0.5,'distance to nearest neighbour (miles)')"
      ]
     },
     "execution_count": 55,
     "metadata": {},
     "output_type": "execute_result"
    },
    {
     "data": {
      "image/png": "[encoded data removed]",
      "text/plain": [
       "<Figure size 432x288 with 1 Axes>"
      ]
     },
     "metadata": {
      "needs_background": "light"
     },
     "output_type": "display_data"
    }
   ],
   "source": [
    "#q23\n",
    "q23 = q15.plot.bar()\n",
    "q23.set_ylabel('distance to nearest neighbour (miles)')"
   ]
  },
  {
   "cell_type": "code",
   "execution_count": 56,
   "metadata": {},
   "outputs": [],
   "source": [
    "def projectpop(population, year, growth_rate):\n",
    "    val = population * (math.exp(year*growth_rate))\n",
    "    return val\n",
    "q24_index = data[data['country'] == 'United States']\n",
    "q24_series = q24_index['population']\n",
    "q24_num = pd.Series.item(q24_series)\n",
    "q24_list_01 = []\n",
    "q24_list_05 = []\n",
    "q24_list_1 = []\n",
    "for q24_count in range(11):\n",
    "    q24_list_01.append(projectpop(q24_num, q24_count, 0.01)/1000000)\n",
    "    q24_list_05.append(projectpop(q24_num, q24_count, 0.05)/1000000)\n",
    "    q24_list_1.append(projectpop(q24_num, q24_count, 0.1)/1000000)\n",
    "q24_df = pd.DataFrame({\n",
    "    0.01 : q24_list_01,\n",
    "    0.05 : q24_list_05,\n",
    "    0.1 : q24_list_1\n",
    "})"
   ]
  },
  {
   "cell_type": "code",
   "execution_count": 57,
   "metadata": {},
   "outputs": [
    {
     "data": {
      "text/plain": [
       "Text(0.5,0,'year')"
      ]
     },
     "execution_count": 57,
     "metadata": {},
     "output_type": "execute_result"
    },
    {
     "data": {
      "image/png": "[encoded data removed]",
      "text/plain": [
       "<Figure size 432x288 with 1 Axes>"
      ]
     },
     "metadata": {
      "needs_background": "light"
     },
     "output_type": "display_data"
    }
   ],
   "source": [
    "#q24\n",
    "q24 = q24_df.plot.line()\n",
    "q24.set_ylabel('population (millions)')\n",
    "q24.set_xlabel('year')"
   ]
  },
  {
   "cell_type": "code",
   "execution_count": 58,
   "metadata": {},
   "outputs": [
    {
     "data": {
      "text/html": [
       "<div>\n",
       "<style scoped>\n",
       "    .dataframe tbody tr th:only-of-type {\n",
       "        vertical-align: middle;\n",
       "    }\n",
       "\n",
       "    .dataframe tbody tr th {\n",
       "        vertical-align: top;\n",
       "    }\n",
       "\n",
       "    .dataframe thead th {\n",
       "        text-align: right;\n",
       "    }\n",
       "</style>\n",
       "<table border=\"1\" class=\"dataframe\">\n",
       "  <thead>\n",
       "    <tr style=\"text-align: right;\">\n",
       "      <th></th>\n",
       "      <th>area</th>\n",
       "      <th>birth-rate</th>\n",
       "      <th>coastline</th>\n",
       "      <th>death-rate</th>\n",
       "      <th>gdp-per-capita</th>\n",
       "      <th>infant-mortality</th>\n",
       "      <th>literacy</th>\n",
       "      <th>net-migration</th>\n",
       "      <th>phones</th>\n",
       "      <th>population</th>\n",
       "    </tr>\n",
       "  </thead>\n",
       "  <tbody>\n",
       "    <tr>\n",
       "      <th>area</th>\n",
       "      <td>1.0000000000</td>\n",
       "      <td>-0.1081394144</td>\n",
       "      <td>-0.0982882942</td>\n",
       "      <td>-0.0021302290</td>\n",
       "      <td>0.0822657544</td>\n",
       "      <td>-0.0632570647</td>\n",
       "      <td>0.0660407861</td>\n",
       "      <td>0.0652353646</td>\n",
       "      <td>0.1096310928</td>\n",
       "      <td>0.4628739430</td>\n",
       "    </tr>\n",
       "    <tr>\n",
       "      <th>birth-rate</th>\n",
       "      <td>-0.1081394144</td>\n",
       "      <td>1.0000000000</td>\n",
       "      <td>-0.1220441733</td>\n",
       "      <td>0.4003778292</td>\n",
       "      <td>-0.6395066958</td>\n",
       "      <td>0.8687265678</td>\n",
       "      <td>-0.7922723536</td>\n",
       "      <td>-0.0861806921</td>\n",
       "      <td>-0.7319244318</td>\n",
       "      <td>-0.0633819922</td>\n",
       "    </tr>\n",
       "    <tr>\n",
       "      <th>coastline</th>\n",
       "      <td>-0.0982882942</td>\n",
       "      <td>-0.1220441733</td>\n",
       "      <td>1.0000000000</td>\n",
       "      <td>-0.1207724681</td>\n",
       "      <td>0.1484449513</td>\n",
       "      <td>-0.1565969183</td>\n",
       "      <td>0.1365461715</td>\n",
       "      <td>0.1094837774</td>\n",
       "      <td>0.2893105543</td>\n",
       "      <td>-0.0701954358</td>\n",
       "    </tr>\n",
       "    <tr>\n",
       "      <th>death-rate</th>\n",
       "      <td>-0.0021302290</td>\n",
       "      <td>0.4003778292</td>\n",
       "      <td>-0.1207724681</td>\n",
       "      <td>1.0000000000</td>\n",
       "      <td>-0.2099584687</td>\n",
       "      <td>0.6278009560</td>\n",
       "      <td>-0.3430254269</td>\n",
       "      <td>0.0449466209</td>\n",
       "      <td>-0.2538932236</td>\n",
       "      <td>-0.0546194574</td>\n",
       "    </tr>\n",
       "    <tr>\n",
       "      <th>gdp-per-capita</th>\n",
       "      <td>0.0822657544</td>\n",
       "      <td>-0.6395066958</td>\n",
       "      <td>0.1484449513</td>\n",
       "      <td>-0.2099584687</td>\n",
       "      <td>1.0000000000</td>\n",
       "      <td>-0.6282619825</td>\n",
       "      <td>0.5179948968</td>\n",
       "      <td>0.4517001697</td>\n",
       "      <td>0.8791613560</td>\n",
       "      <td>-0.0414049725</td>\n",
       "    </tr>\n",
       "    <tr>\n",
       "      <th>infant-mortality</th>\n",
       "      <td>-0.0632570647</td>\n",
       "      <td>0.8687265678</td>\n",
       "      <td>-0.1565969183</td>\n",
       "      <td>0.6278009560</td>\n",
       "      <td>-0.6282619825</td>\n",
       "      <td>1.0000000000</td>\n",
       "      <td>-0.7608588620</td>\n",
       "      <td>-0.0333213553</td>\n",
       "      <td>-0.6899139546</td>\n",
       "      <td>0.0005893416</td>\n",
       "    </tr>\n",
       "    <tr>\n",
       "      <th>literacy</th>\n",
       "      <td>0.0660407861</td>\n",
       "      <td>-0.7922723536</td>\n",
       "      <td>0.1365461715</td>\n",
       "      <td>-0.3430254269</td>\n",
       "      <td>0.5179948968</td>\n",
       "      <td>-0.7608588620</td>\n",
       "      <td>1.0000000000</td>\n",
       "      <td>0.0015422535</td>\n",
       "      <td>0.5943221873</td>\n",
       "      <td>-0.0373251384</td>\n",
       "    </tr>\n",
       "    <tr>\n",
       "      <th>net-migration</th>\n",
       "      <td>0.0652353646</td>\n",
       "      <td>-0.0861806921</td>\n",
       "      <td>0.1094837774</td>\n",
       "      <td>0.0449466209</td>\n",
       "      <td>0.4517001697</td>\n",
       "      <td>-0.0333213553</td>\n",
       "      <td>0.0015422535</td>\n",
       "      <td>1.0000000000</td>\n",
       "      <td>0.3438831516</td>\n",
       "      <td>-0.0044883088</td>\n",
       "    </tr>\n",
       "    <tr>\n",
       "      <th>phones</th>\n",
       "      <td>0.1096310928</td>\n",
       "      <td>-0.7319244318</td>\n",
       "      <td>0.2893105543</td>\n",
       "      <td>-0.2538932236</td>\n",
       "      <td>0.8791613560</td>\n",
       "      <td>-0.6899139546</td>\n",
       "      <td>0.5943221873</td>\n",
       "      <td>0.3438831516</td>\n",
       "      <td>1.0000000000</td>\n",
       "      <td>-0.0061004235</td>\n",
       "    </tr>\n",
       "    <tr>\n",
       "      <th>population</th>\n",
       "      <td>0.4628739430</td>\n",
       "      <td>-0.0633819922</td>\n",
       "      <td>-0.0701954358</td>\n",
       "      <td>-0.0546194574</td>\n",
       "      <td>-0.0414049725</td>\n",
       "      <td>0.0005893416</td>\n",
       "      <td>-0.0373251384</td>\n",
       "      <td>-0.0044883088</td>\n",
       "      <td>-0.0061004235</td>\n",
       "      <td>1.0000000000</td>\n",
       "    </tr>\n",
       "  </tbody>\n",
       "</table>\n",
       "</div>"
      ],
      "text/plain": [
       "                          area    birth-rate     coastline    death-rate  \\\n",
       "area              1.0000000000 -0.1081394144 -0.0982882942 -0.0021302290   \n",
       "birth-rate       -0.1081394144  1.0000000000 -0.1220441733  0.4003778292   \n",
       "coastline        -0.0982882942 -0.1220441733  1.0000000000 -0.1207724681   \n",
       "death-rate       -0.0021302290  0.4003778292 -0.1207724681  1.0000000000   \n",
       "gdp-per-capita    0.0822657544 -0.6395066958  0.1484449513 -0.2099584687   \n",
       "infant-mortality -0.0632570647  0.8687265678 -0.1565969183  0.6278009560   \n",
       "literacy          0.0660407861 -0.7922723536  0.1365461715 -0.3430254269   \n",
       "net-migration     0.0652353646 -0.0861806921  0.1094837774  0.0449466209   \n",
       "phones            0.1096310928 -0.7319244318  0.2893105543 -0.2538932236   \n",
       "population        0.4628739430 -0.0633819922 -0.0701954358 -0.0546194574   \n",
       "\n",
       "                  gdp-per-capita  infant-mortality      literacy  \\\n",
       "area                0.0822657544     -0.0632570647  0.0660407861   \n",
       "birth-rate         -0.6395066958      0.8687265678 -0.7922723536   \n",
       "coastline           0.1484449513     -0.1565969183  0.1365461715   \n",
       "death-rate         -0.2099584687      0.6278009560 -0.3430254269   \n",
       "gdp-per-capita      1.0000000000     -0.6282619825  0.5179948968   \n",
       "infant-mortality   -0.6282619825      1.0000000000 -0.7608588620   \n",
       "literacy            0.5179948968     -0.7608588620  1.0000000000   \n",
       "net-migration       0.4517001697     -0.0333213553  0.0015422535   \n",
       "phones              0.8791613560     -0.6899139546  0.5943221873   \n",
       "population         -0.0414049725      0.0005893416 -0.0373251384   \n",
       "\n",
       "                  net-migration        phones    population  \n",
       "area               0.0652353646  0.1096310928  0.4628739430  \n",
       "birth-rate        -0.0861806921 -0.7319244318 -0.0633819922  \n",
       "coastline          0.1094837774  0.2893105543 -0.0701954358  \n",
       "death-rate         0.0449466209 -0.2538932236 -0.0546194574  \n",
       "gdp-per-capita     0.4517001697  0.8791613560 -0.0414049725  \n",
       "infant-mortality  -0.0333213553 -0.6899139546  0.0005893416  \n",
       "literacy           0.0015422535  0.5943221873 -0.0373251384  \n",
       "net-migration      1.0000000000  0.3438831516 -0.0044883088  \n",
       "phones             0.3438831516  1.0000000000 -0.0061004235  \n",
       "population        -0.0044883088 -0.0061004235  1.0000000000  "
      ]
     },
     "execution_count": 58,
     "metadata": {},
     "output_type": "execute_result"
    }
   ],
   "source": [
    "#q25\n",
    "data.corr()"
   ]
  },
  {
   "cell_type": "code",
   "execution_count": 59,
   "metadata": {},
   "outputs": [],
   "source": [
    "q26_data = data\n",
    "q26_plot_data = q26_data.drop(columns=['continent', 'country', 'region', 'area', 'birth-rate', 'coastline', 'death-rate', 'gdp-per-capita', 'infant-mortality', 'net-migration', 'population'])\n"
   ]
  },
  {
   "cell_type": "code",
   "execution_count": 60,
   "metadata": {},
   "outputs": [
    {
     "data": {
      "text/plain": [
       "<matplotlib.axes._subplots.AxesSubplot at 0x233a5938e10>"
      ]
     },
     "execution_count": 60,
     "metadata": {},
     "output_type": "execute_result"
    },
    {
     "data": {
      "image/png": "[encoded data removed]",
      "text/plain": [
       "<Figure size 432x288 with 1 Axes>"
      ]
     },
     "metadata": {
      "needs_background": "light"
     },
     "output_type": "display_data"
    }
   ],
   "source": [
    "#q26\n",
    "q26_plot_data.plot.scatter(x = 'literacy', y = 'phones')"
   ]
  },
  {
   "cell_type": "code",
   "execution_count": 61,
   "metadata": {},
   "outputs": [],
   "source": [
    "q27_data = data\n",
    "q27_plot_data = q27_data.drop(columns=['continent', 'country', 'region', 'area', 'phones', 'coastline', 'death-rate', 'gdp-per-capita', 'infant-mortality', 'net-migration', 'population'])"
   ]
  },
  {
   "cell_type": "code",
   "execution_count": 62,
   "metadata": {},
   "outputs": [
    {
     "data": {
      "text/plain": [
       "<matplotlib.axes._subplots.AxesSubplot at 0x233a59982e8>"
      ]
     },
     "execution_count": 62,
     "metadata": {},
     "output_type": "execute_result"
    },
    {
     "data": {
      "image/png": "[encoded data removed]",
      "text/plain": [
       "<Figure size 432x288 with 1 Axes>"
      ]
     },
     "metadata": {
      "needs_background": "light"
     },
     "output_type": "display_data"
    }
   ],
   "source": [
    "#q27\n",
    "q27_plot_data.plot.scatter(x = 'literacy', y = 'birth-rate')"
   ]
  },
  {
   "cell_type": "code",
   "execution_count": 63,
   "metadata": {},
   "outputs": [],
   "source": [
    "q28_data = data\n",
    "q28_plot_data = q28_data.drop(columns=['continent', 'country', 'region', 'birth-rate', 'phones', 'coastline', 'death-rate', 'gdp-per-capita', 'infant-mortality', 'net-migration', 'population'])"
   ]
  },
  {
   "cell_type": "code",
   "execution_count": 64,
   "metadata": {
    "scrolled": true
   },
   "outputs": [
    {
     "data": {
      "text/plain": [
       "<matplotlib.axes._subplots.AxesSubplot at 0x233a59efc88>"
      ]
     },
     "execution_count": 64,
     "metadata": {},
     "output_type": "execute_result"
    },
    {
     "data": {
      "image/png": "[encoded data removed]",
      "text/plain": [
       "<Figure size 432x288 with 1 Axes>"
      ]
     },
     "metadata": {
      "needs_background": "light"
     },
     "output_type": "display_data"
    }
   ],
   "source": [
    "#q28\n",
    "q28_plot_data.plot.scatter(x = 'literacy', y = 'area', logy = True)"
   ]
  },
  {
   "cell_type": "code",
   "execution_count": 65,
   "metadata": {},
   "outputs": [],
   "source": [
    "q29_data = data\n",
    "q29_data_edit = data[(data['continent'] == 'Europe')]\n",
    "q29_plot_data = q29_data_edit.drop(columns=['continent', 'country', 'region', 'birth-rate', 'phones', 'coastline', 'death-rate', 'area', 'literacy', 'net-migration', 'population'])"
   ]
  },
  {
   "cell_type": "code",
   "execution_count": 66,
   "metadata": {
    "scrolled": false
   },
   "outputs": [
    {
     "data": {
      "text/plain": [
       "<matplotlib.axes._subplots.AxesSubplot at 0x233a5c20668>"
      ]
     },
     "execution_count": 66,
     "metadata": {},
     "output_type": "execute_result"
    },
    {
     "data": {
      "image/png": "[encoded data removed]",
      "text/plain": [
       "<Figure size 432x288 with 1 Axes>"
      ]
     },
     "metadata": {
      "needs_background": "light"
     },
     "output_type": "display_data"
    }
   ],
   "source": [
    "#q29\n",
    "q29_plot_data.plot.scatter(x = 'gdp-per-capita', y = 'infant-mortality')"
   ]
  },
  {
   "cell_type": "code",
   "execution_count": 67,
   "metadata": {},
   "outputs": [],
   "source": [
    "q30_data = data\n",
    "q30_data_edit = data[(data['continent'] == 'Europe')]\n",
    "q30_plot_data = q30_data_edit.drop(columns=['continent', 'country', 'region', 'birth-rate', 'phones', 'coastline', 'death-rate', 'area', 'literacy', 'net-migration', 'population'])\n",
    "q30_gdp_list = []\n",
    "q30_infant_list = []\n",
    "q30_dict = []\n",
    "for q30_country in q30_plot_data['gdp-per-capita']:\n",
    "    q30_gdp_list.append(q30_country)\n",
    "for q30_infant in q30_plot_data['infant-mortality']:\n",
    "    q30_infant_list.append(q30_infant)\n",
    "for q30_count in range(len(q30_infant_list)):\n",
    "    q30_dict_temp = {}\n",
    "    q30_dict_temp['gdp-per-capita (dollars)'] = q30_gdp_list[q30_count]\n",
    "    q30_dict_temp['1/(infant-mortality)'] = 1/q30_infant_list[q30_count]\n",
    "    q30_dict.append(q30_dict_temp)    \n",
    "q30_df = pd.DataFrame(q30_dict)"
   ]
  },
  {
   "cell_type": "code",
   "execution_count": 68,
   "metadata": {},
   "outputs": [
    {
     "data": {
      "text/plain": [
       "<matplotlib.axes._subplots.AxesSubplot at 0x233a5c6a240>"
      ]
     },
     "execution_count": 68,
     "metadata": {},
     "output_type": "execute_result"
    },
    {
     "data": {
      "image/png": "[encoded data removed]",
      "text/plain": [
       "<Figure size 432x288 with 1 Axes>"
      ]
     },
     "metadata": {
      "needs_background": "light"
     },
     "output_type": "display_data"
    }
   ],
   "source": [
    "#q30\n",
    "import numpy as np\n",
    "\n",
    "q30_df[\"1\"] = 1\n",
    "\n",
    "res = np.linalg.lstsq(q30_df[[\"gdp-per-capita (dollars)\", \"1\"]], q30_df[\"1/(infant-mortality)\"], rcond=None)\n",
    "\n",
    "# res is a tuple: (COEFFICIENTS, VALUE, VALUE, VALUE)\n",
    "coefficients = res[0] # coefficients is (m,n)\n",
    "m = coefficients[0] # slope\n",
    "n = coefficients[1] # intercept\n",
    "ax = q30_df.plot.scatter(x='gdp-per-capita (dollars)', y='1/(infant-mortality)', c='black', s=30, xlim=0, ylim=0)\n",
    "\n",
    "q30_df[\"fit\"] = q30_df[\"gdp-per-capita (dollars)\"] * m + n\n",
    "q30_df.plot.line(x='gdp-per-capita (dollars)', y='fit', c='red', ax=ax)"
   ]
  },
  {
   "cell_type": "code",
   "execution_count": 69,
   "metadata": {},
   "outputs": [],
   "source": [
    "conn.close()"
   ]
  }
 ],
 "metadata": {
  "kernelspec": {
   "display_name": "Python 3",
   "language": "python",
   "name": "python3"
  },
  "language_info": {
   "codemirror_mode": {
    "name": "ipython",
    "version": 3
   },
   "file_extension": ".py",
   "mimetype": "text/x-python",
   "name": "python",
   "nbconvert_exporter": "python",
   "pygments_lexer": "ipython3",
   "version": "3.7.0"
  }
 },
 "nbformat": 4,
 "nbformat_minor": 2
}
